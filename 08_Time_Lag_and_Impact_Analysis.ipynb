{
 "cells": [
  {
   "cell_type": "markdown",
   "id": "0bbd9e26",
   "metadata": {},
   "source": [
    "Time Lag & Impact Analysis (Causal Lag Modelling)\n",
    "\n",
    "**Business Context:** Strategic interventions like marketing spend often have delayed effects. Understanding these causal lags helps optimise timing and forecast impact.\n",
    "\n",
    "**Question:** How long after an intervention does its impact manifest, and how strong is the delayed effect?\n",
    "\n",
    "**Approach:**\n",
    "- Simulate time series data for a shock variable (e.g., marketing spend) and a response variable (e.g., revenue)\n",
    "- Use lagged regression to estimate delayed effects\n",
    "- Visualise lag structure and identify optimal timing\n",
    "\n",
    " **Keywords:** Causal lag, time series, delayed impact, regression, strategic timing"
   ]
  },
  {
   "cell_type": "code",
   "execution_count": 1,
   "id": "13fb2d49",
   "metadata": {},
   "outputs": [],
   "source": [
    "# --- Notebook Setup & Imports ---\n",
    "import numpy as np\n",
    "import pandas as pd\n",
    "import matplotlib.pyplot as plt\n",
    "import statsmodels.api as sm\n",
    "\n",
    "# --- Simulate Time Series Data ---\n",
    "np.random.seed(42)\n",
    "T = 100  # time periods\n",
    "shock = np.random.normal(loc=100, scale=20, size=T)  # marketing spend\n",
    "noise = np.random.normal(scale=10, size=T)\n",
    "\n",
    "# --- Create lagged impact: revenue responds with delay ---\n",
    "response = (\n",
    "    0.2 * np.roll(shock, 1) +\n",
    "    0.3 * np.roll(shock, 2) +\n",
    "    0.1 * np.roll(shock, 3) +\n",
    "    noise\n",
    ")\n",
    "response[:3] = noise[:3]  # fix initial values\n",
    "\n",
    "# --- Prepare Lagged Regression Data ---\n",
    "df = pd.DataFrame({\n",
    "    'response': response,\n",
    "    'shock_lag1': np.roll(shock, 1),\n",
    "    'shock_lag2': np.roll(shock, 2),\n",
    "    'shock_lag3': np.roll(shock, 3)\n",
    "})\n",
    "df.iloc[:3] = np.nan  \n",
    "df.dropna(inplace=True)"
   ]
  },
  {
   "cell_type": "code",
   "execution_count": 2,
   "id": "26fcca21",
   "metadata": {},
   "outputs": [
    {
     "name": "stdout",
     "output_type": "stream",
     "text": [
      "                            OLS Regression Results                            \n",
      "==============================================================================\n",
      "Dep. Variable:               response   R-squared:                       0.379\n",
      "Model:                            OLS   Adj. R-squared:                  0.359\n",
      "Method:                 Least Squares   F-statistic:                     18.95\n",
      "Date:                Wed, 20 Aug 2025   Prob (F-statistic):           1.13e-09\n",
      "Time:                        14:03:49   Log-Likelihood:                -355.51\n",
      "No. Observations:                  97   AIC:                             719.0\n",
      "Df Residuals:                      93   BIC:                             729.3\n",
      "Df Model:                           3                                         \n",
      "Covariance Type:            nonrobust                                         \n",
      "==============================================================================\n",
      "                 coef    std err          t      P>|t|      [0.025      0.975]\n",
      "------------------------------------------------------------------------------\n",
      "const         -2.4733      9.382     -0.264      0.793     -21.104      16.157\n",
      "shock_lag1     0.1963      0.054      3.662      0.000       0.090       0.303\n",
      "shock_lag2     0.3508      0.054      6.549      0.000       0.244       0.457\n",
      "shock_lag3     0.0829      0.054      1.549      0.125      -0.023       0.189\n",
      "==============================================================================\n",
      "Omnibus:                        2.795   Durbin-Watson:                   2.183\n",
      "Prob(Omnibus):                  0.247   Jarque-Bera (JB):                2.451\n",
      "Skew:                           0.389   Prob(JB):                        0.294\n",
      "Kurtosis:                       3.042   Cond. No.                     1.63e+03\n",
      "==============================================================================\n",
      "\n",
      "Notes:\n",
      "[1] Standard Errors assume that the covariance matrix of the errors is correctly specified.\n",
      "[2] The condition number is large, 1.63e+03. This might indicate that there are\n",
      "strong multicollinearity or other numerical problems.\n"
     ]
    },
    {
     "data": {
      "image/png": "[encoded data removed]",
      "text/plain": [
       "<Figure size 800x500 with 1 Axes>"
      ]
     },
     "metadata": {},
     "output_type": "display_data"
    }
   ],
   "source": [
    "# --- Running the Lagged Regression Function ---\n",
    "X = df[['shock_lag1', 'shock_lag2', 'shock_lag3']]\n",
    "X = sm.add_constant(X)\n",
    "y = df['response']\n",
    "model = sm.OLS(y, X).fit()\n",
    "print(model.summary())\n",
    "\n",
    "# --- Visualize Lag Coefficients ---\n",
    "plt.figure(figsize=(8, 5))\n",
    "plt.bar(['Lag 1', 'Lag 2', 'Lag 3'], model.params[1:], color='skyblue')\n",
    "plt.title('Estimated Impact by Lag')\n",
    "plt.ylabel('Coefficient Value')\n",
    "plt.grid(True)\n",
    "plt.tight_layout()\n",
    "plt.show()"
   ]
  },
  {
   "cell_type": "markdown",
   "id": "25eb70dc",
   "metadata": {},
   "source": [
    "--- Executive Summary & Strategic Recommendation ---\n",
    "\n",
    "**Strategic Insight:**\n",
    "- **Impact** of interventions is **not immediate**—lags vary by channel and context\n",
    "- **Lagged regression** reveals **timing structure**, enabling better forecasting\n",
    "- **Peak impact** occurs around **Lag 2**, guiding campaign pacing\n",
    "- **Recommendation** Use Causal Lag modelling to time interventions for maximum ROI, monitor lag coefficients to adjuest strategy dynamically. Finally, integrate lag insights into funnel forecasting and budget allocation\n",
    "\n",
    "**Actionable Guidance:**\n",
    "- Run lagged regression on historical campaign data to uncover delay patterns\n",
    "- Use lag plots to visualize timing of impact\n",
    "- Define thresholds for actionable lag (e.g., impact > 10%) to guide decision timing\n",
    "- Combine with Prophet or ARIMA models for full funnel forecasting\n",
    "\n"
   ]
  }
 ],
 "metadata": {
  "kernelspec": {
   "display_name": "Python 3",
   "language": "python",
   "name": "python3"
  },
  "language_info": {
   "codemirror_mode": {
    "name": "ipython",
    "version": 3
   },
   "file_extension": ".py",
   "mimetype": "text/x-python",
   "name": "python",
   "nbconvert_exporter": "python",
   "pygments_lexer": "ipython3",
   "version": "3.11.1"
  }
 },
 "nbformat": 4,
 "nbformat_minor": 5
}
